{
 "cells": [
  {
   "attachments": {},
   "cell_type": "markdown",
   "metadata": {},
   "source": [
    "#### 1- Sort Touples With Lambda"
   ]
  },
  {
   "cell_type": "code",
   "execution_count": 3,
   "metadata": {},
   "outputs": [
    {
     "name": "stdout",
     "output_type": "stream",
     "text": [
      "[(2, 10), (3, 4), (5, 2), (5, 3)]\n"
     ]
    }
   ],
   "source": [
    "def sort(touples):\n",
    "    return sorted(touples, key=lambda touples : (touples[0], touples[1]))\n",
    "\n",
    "# Test Case\n",
    "t = ((3,4), (5,3), (2,10), (5,2))\n",
    "print(sort(t))"
   ]
  },
  {
   "attachments": {},
   "cell_type": "markdown",
   "metadata": {},
   "source": [
    "#### 2- Merge Sort"
   ]
  },
  {
   "cell_type": "code",
   "execution_count": 7,
   "metadata": {},
   "outputs": [
    {
     "name": "stdout",
     "output_type": "stream",
     "text": [
      "[1, 2, 3, 5, 5, 6, 8]\n"
     ]
    }
   ],
   "source": [
    "def merge_sort(data):\n",
    "    n = len(data)\n",
    "    if n == 1: # base case\n",
    "        return data\n",
    "    mid = n // 2\n",
    "    l = merge_sort(data[:mid])\n",
    "    r = merge_sort(data[mid:])\n",
    "    return merger(l,r)\n",
    "\n",
    "def merger(l, r):\n",
    "    n, m = len(l), len(r)\n",
    "    i, j = 0, 0\n",
    "    res = []\n",
    "    while i < n and j < m:\n",
    "        if l[i] <= r[j]:\n",
    "            res.append(l[i])\n",
    "            i += 1\n",
    "        else:\n",
    "            res.append(r[j])\n",
    "            j += 1\n",
    "    while i < n:\n",
    "        res.append(l[i])\n",
    "        i += 1\n",
    "    while j < m:\n",
    "        res.append(r[j])\n",
    "        j += 1\n",
    "    return res\n",
    "\n",
    "# Test Case:\n",
    "data = [3, 5, 2, 1, 5, 6, 8]\n",
    "print(merge_sort(data))\n"
   ]
  },
  {
   "attachments": {},
   "cell_type": "markdown",
   "metadata": {},
   "source": [
    "#### 3- Heap Sort"
   ]
  },
  {
   "cell_type": "code",
   "execution_count": 10,
   "metadata": {},
   "outputs": [
    {
     "name": "stdout",
     "output_type": "stream",
     "text": [
      "[1, 2, 3, 5, 5, 6, 8]\n"
     ]
    }
   ],
   "source": [
    "def heap_sort(data):\n",
    "    n = len(data)\n",
    "    for i in range(n, -1, -1):\n",
    "        heapify(data, i, n)\n",
    "    for i in range(n-1, 0, -1):\n",
    "        data[0], data[i] = data[i], data[0]\n",
    "        heapify(data, 0, i)\n",
    "    return data\n",
    "\n",
    "def heapify(data, i, n):\n",
    "    lowest_idx = i\n",
    "    l = 2*i + 1\n",
    "    r = 2*i + 2\n",
    "    if l < n and data[l] > data[lowest_idx]:\n",
    "        lowest_idx = l\n",
    "    if r < n and data[r] > data[lowest_idx]:\n",
    "        lowest_idx = r\n",
    "    if lowest_idx != i:\n",
    "        data[i], data[lowest_idx] = data[lowest_idx], data[i]\n",
    "        heapify(data, lowest_idx, n)\n",
    "\n",
    "\n",
    "# Test Case:\n",
    "data = [3, 5, 2, 1, 5, 6, 8]\n",
    "print(heap_sort(data))\n"
   ]
  },
  {
   "attachments": {},
   "cell_type": "markdown",
   "metadata": {},
   "source": [
    "#### 4- Unique Permutation"
   ]
  },
  {
   "cell_type": "code",
   "execution_count": 12,
   "metadata": {},
   "outputs": [
    {
     "name": "stdout",
     "output_type": "stream",
     "text": [
      "[(0, 1, 0, 1), (1, 1, 0, 0), (0, 1, 1, 0), (1, 0, 1, 0), (1, 0, 0, 1), (0, 0, 1, 1)]\n"
     ]
    }
   ],
   "source": [
    "from itertools import permutations\n",
    "def unique_permutation(data):\n",
    "    return list(set(permutations(data)))\n",
    "\n",
    "# Test Case:\n",
    "data = [1,1,0,0]\n",
    "print(unique_permutation(data))"
   ]
  },
  {
   "attachments": {},
   "cell_type": "markdown",
   "metadata": {},
   "source": [
    "#### 5- Find Subsets"
   ]
  },
  {
   "cell_type": "code",
   "execution_count": 13,
   "metadata": {},
   "outputs": [
    {
     "name": "stdout",
     "output_type": "stream",
     "text": [
      "[(), (1,), (1,), (0,), (0,), (1, 1), (1, 0), (1, 0), (1, 0), (1, 0), (0, 0), (1, 1, 0), (1, 1, 0), (1, 0, 0), (1, 0, 0), (1, 1, 0, 0)]\n"
     ]
    }
   ],
   "source": [
    "from itertools import chain, combinations\n",
    "def get_subsets(data):\n",
    "    return list(chain.from_iterable(combinations(data, i) for i in range(len(data)+1)))\n",
    "\n",
    "#Test Case\n",
    "data = [1,1,0,0]\n",
    "print(get_subsets(data))"
   ]
  },
  {
   "attachments": {},
   "cell_type": "markdown",
   "metadata": {},
   "source": [
    "#### 6- Tree Problem: Check if a tree is balanced\n",
    "A tree is balanced is if the height of the left and right nodes are at most +1 different"
   ]
  },
  {
   "cell_type": "code",
   "execution_count": 17,
   "metadata": {},
   "outputs": [
    {
     "name": "stdout",
     "output_type": "stream",
     "text": [
      "Tree height is :  4\n",
      "Tree is balanced?  False\n"
     ]
    }
   ],
   "source": [
    "class Node:\n",
    "    def __init__(self, data):\n",
    "        self.data = data\n",
    "        self.right = None\n",
    "        self.left = None\n",
    "\n",
    "class Tree:\n",
    "    def __init__(self, data):\n",
    "        self.root = Node(data)        \n",
    "\n",
    "    def get_height(self, r):\n",
    "        if r is None:\n",
    "            return 0\n",
    "        return 1 + max(self.get_height(r.left), self.get_height(r.right))\n",
    "    \n",
    "    def is_balanced(self, r):\n",
    "        if r is None:\n",
    "            return True\n",
    "        return (self.is_balanced(r.left) and \n",
    "                self.is_balanced(r.right) and\n",
    "                abs(self.get_height(r.left) - self.get_height(r.right)) <= 1\n",
    "            )\n",
    "\n",
    "# Test Case:\n",
    "tree = Tree(1)\n",
    "tree.root.left = Node(2)\n",
    "tree.root.left.right = Node(4)\n",
    "tree.root.left.right.left = Node(6)\n",
    "tree.root.right = Node(3)\n",
    "tree.root.right.right = Node(5)\n",
    "tree.root.right.right.right = Node(7)\n",
    "\n",
    "\n",
    "print(\"Tree height is : \", tree.get_height(tree.root))\n",
    "\n",
    "print(\"Tree is balanced? \", tree.is_balanced(tree.root))     "
   ]
  }
 ],
 "metadata": {
  "kernelspec": {
   "display_name": "Python 3",
   "language": "python",
   "name": "python3"
  },
  "language_info": {
   "codemirror_mode": {
    "name": "ipython",
    "version": 3
   },
   "file_extension": ".py",
   "mimetype": "text/x-python",
   "name": "python",
   "nbconvert_exporter": "python",
   "pygments_lexer": "ipython3",
   "version": "3.9.6"
  },
  "orig_nbformat": 4
 },
 "nbformat": 4,
 "nbformat_minor": 2
}
