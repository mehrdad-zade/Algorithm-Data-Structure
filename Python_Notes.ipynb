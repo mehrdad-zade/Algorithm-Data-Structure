{
 "cells": [
  {
   "attachments": {},
   "cell_type": "markdown",
   "metadata": {},
   "source": [
    "# Basics"
   ]
  },
  {
   "attachments": {},
   "cell_type": "markdown",
   "metadata": {},
   "source": [
    "#### CPython vs PyPy\n",
    "\n",
    "To work mostly in a traditional environment, CPython is an excellent fit. If you don’t have a strong alternative preference, start with the standard CPython reference implementation, which is most widely supported by third-party add-ons and extensions and offers the most up-to-date version.\n",
    "\n",
    "CPython, by definition, supports all Python extensions; however, PyPy supports most extensions, and it can often be faster for long-running programs thanks to ```just-in-time compilation``` to machine code.\n",
    "\n",
    "#### Jython and IronPython\n",
    "Jython, supporting Python on top of a JVM, and IronPython, supporting Python on top of .NET, are open source projects that, while offering production-level quality for the Python versions they support, appear to be “stalled” at the time of this writing, since the latest versions they support are substantially behind CPython’s.\n",
    "\n",
    "#### Anaconda and Miniconda\n",
    "One of the most successful Python distributions in recent years is Anaconda. This open source package comes with a vast number of preconfigured and tested extension modules in addition to the standard library. In many cases, you might find that it contains all the necessary dependencies for your work. If your dependencies aren’t supported, you can also install modules with pip. On Unix-based systems, it installs very simply in a sngle directory: to activate it, just add the Anaconda bin subdirectory at the front of your shell PATH.\n",
    "\n",
    "Anaconda is based on a packaging technology called conda. A sister implementation, Miniconda, gives access to the same extensions but does not come with them preloaded; it instead downloads them as required, making it a better choice for creating tailored environments. conda does not use the standard virtual environments, but contains equivalent facilities to allow separation of the dependencies for multiple projects.\n",
    "\n",
    "Anaconda and Miniconda One of the most successful Python distributions in recent years is Anaconda. This open source package comes with a vast number of preconfigured and tested extension modules in addition to the standard library. In many cases, you might find that it contains all the necessary dependencies for your work. If your dependencies aren’t supported, you can also install modules with pip. On Unix-based systems, it installs very simply in a single directory: to activate it, just add the Anaconda bin subdirectory at the front of your shell PATH.\n",
    "\n",
    "#### Transcrypt: Convert your Python to JavaScript\n",
    "Many attempts have been made to make Python into a browser-based language, but JavaScript’s hold has been tenacious. The Transcrypt system is a pip-installable Python package to convert Python code (currently, up to version 3.9) into browser-executable JavaScript. You have full access to the browser’s DOM, allowing your code to dynamically manipulate window content and use JavaScript libraries.\n",
    "\n",
    "#### Strings and bytes\n",
    "\n",
    "```\n",
    "b'abc'\n",
    "bytes([97, 98, 99]) # Same as the previous line\n",
    "rb'\\ = solidus' # A raw bytes literal, containing a\n",
    "'\\'\n",
    "```\n",
    "\n",
    "To convert a bytes object to a str, use the bytes.decode method. To convert a str object to a bytes object, use the str.encode method.\n",
    "\n",
    "\n",
    "#### Lists vs Tuples\n",
    "\n",
    "The main difference between the two is that lists are mutable, meaning you can change their content, while tuples are immutable, meaning you cannot change their content once they are created.\n",
    "\n",
    "For example, you can add or remove elements from a list using methods like append() and remove(), but you cannot do the same with a tuple. \n",
    "\n",
    "Another difference is that tuples can be used as keys in dictionaries and as elements of sets, while lists cannot. This is because tuples are hashable (since they are immutable), while lists are not.\n",
    "\n",
    "\n",
    "#### Ellipsis (...)\n",
    "\n",
    "The Ellipsis, written as three periods with no intervening spaces, ..., is a special object in Python used in numerical applications, or as an alternative to None when None is a valid entry.\n",
    "\n",
    "For example, in the numpy library, it is used to indicate a placeholder for the rest of the array dimensions not specified.\n",
    "\n",
    "```\n",
    "tally = dict.fromkeys(['A', 'B', None, ...], 0)\n",
    "print(tally) # {'A': 0, 'B': 0, None: 0, Ellipsis: 0}\n",
    "\n",
    "tally[...] = 1\n",
    "print(tally) # {'A': 0, 'B': 0, None: 0, Ellipsis: 1}\n",
    "```\n",
    "\n",
    "#### mutability & Reference vs Value Based Assignment\n",
    "\n",
    "since integers are ```immutable``` assigning $c$ to $a$ and $b$, assigns the value of $c$ to them as a new value based assignment. It's as if we assigned the new vars to a value severalty. So changes to any of the vars won't impact others.\n",
    "\n",
    "However, with ```mutable``` objects, the assignment becomes reference based.\n",
    "\n",
    "```\n",
    "# Immutable Example\n",
    "c = 0\n",
    "a = b = c\n",
    "a = 1\n",
    "print(b) # 0\n",
    "a += 1\n",
    "print(a, b, c) # 2 0 0\n",
    "\n",
    "# Immutable Example\n",
    "s1 = 'abc'\n",
    "s2 = s1\n",
    "s2 = 'd'\n",
    "print(s1,s2) # abc d\n",
    "\n",
    "# Mutable Example\n",
    "s1 = [1,2,3]\n",
    "s2 = s1\n",
    "s2.append(4)\n",
    "print(s1,s2) # [1, 2, 3, 4] [1, 2, 3, 4]\n",
    "```\n",
    "\n",
    "#### del\n",
    "\n",
    "In all other cases, the del statement specifies a request to an object to unbind one or more of its attributes or items.\n",
    "\n",
    "For example, assuming $del C[2]$ succeeds, when C is a dictionary, this makes future references to C[2] invalid (raising KeyError) until and unless you assign to C[2] again; but when C is a list, del C[2] implies that every following item of C “shifts left by one”—so, if C is long enough, future references to C[2] are still valid, but denote a different item than they did before the del (generally, what you’d have used C[3] to refer to, before the del statement).\n",
    "\n",
    "\n",
    "#### List functions\n",
    "\n",
    "- ```count``` L.count(x): Returns the number of items of L that are equal to x.\n",
    "- ```index``` L.index(x): Returns the index of the first occurrence of an item in L that is equal to x, or raises an exception if L has no such item.\n",
    "- ```append``` L.append(x): Appends item x to the end of L ; like L[len(L):] = [x].\n",
    "- ```clear``` L.clear(): Removes all items from L, leaving L empty.\n",
    "- ```extend``` L.extend(s): Appends all the items of iterable s to the end of L; like L[len(L):] = s or L += s.\n",
    "- ```insert``` L.insert(i, x): Inserts item x in L before the item at index i, moving following items of L (if any) “rightward” to make space (increases len(L) by one, does not replace any item, does not raise exceptions; acts just like L[i:i]=[x]).\n",
    "- ```pop``` L.pop(i=-1): Returns the value of the item at index i and removes it from L; when you omit i, removes and returns the last item; raises an exception when L is empty or i is an invalid index in L.\n",
    "- ```remove``` L.remove(x): Removes from L the first occurrence of an item in L that is equal to x, or raises an exception when L has no such item.\n",
    "- ```reverse``` L.reverse(): Reverses, in place, the items of L.\n",
    "- ```sort``` L.sort(key=None, reverse=False): Sorts, in place, the items of L (in ascending order, by default; in descending order, if the argument reverse is True). When the argument key is not None, what gets compared for each item x is key(x), not x itself. For more details, see the following section.\n",
    "\n",
    "\n",
    "#### Set functions\n",
    "\n",
    "- ```copy``` s.copy(): Returns a shallow copy of s (a copy whose items are the same objects as s’s, not copies thereof); like set(s)\n",
    "- ```difference``` s.difference(s1): Returns the set of all items of s that aren’t in s1; can be written as s - s1 intersection s.intersection(s1) Returns the set of all items of s that are also in s1; can be written as s & s1\n",
    "- ```isdisjoint``` s.isdisjoint(s1): Returns True if the intersection of s and s1 is the empty set (they have no items in common), and otherwise returns False\n",
    "- ```issubset``` s.issubset(s1): Returns True when all items of s are also in s1, and otherwise returns False; can be written as s <= s1\n",
    "- ```issuperset``` s.issuperset(s1): Returns True when all items of s1 are also in s, and otherwise returns False (like s1.issubset(s)); can be written as s >= s1 \n",
    "- ```symmetric``` difference: s.symmetric_difference(s1) Returns the set of all items that are in either s or s1, but not both; can be written s ^ s1\n",
    "- ```union``` s.union(s1): Returns the set of all items that are in s, s1, or both; can be written as s | s1\n",
    "- ```add``` s.add(x): Adds x as an item to s; no effect if x was already an item in s\n",
    "- ```clear``` s.clear(): Removes all items from s, leaving s empty\n",
    "- ```discard``` s.discard(x): Removes x as an item of s; no effect when x was not an item of s\n",
    "- ```pop``` s.pop(): Removes and returns an arbitrary item of s\n",
    "- ```remove``` s.remove(x): Removes x as an item of s; raises a KeyError exception when x was not an item of s\n",
    "\n",
    "\n",
    "#### '/' in Function Signature\n",
    "\n",
    "A function’s signature may contain a single positional-only marker (/) as a dummy parameter. The parameters preceding the marker are known as positional-only parameters, and must be provided as positional arguments, not named arguments, when calling the function; using named arguments for these parameters raises a TypeError exception. The built-in int type, for example, has the following signature: int(x, /, base=10)"
   ]
  },
  {
   "attachments": {},
   "cell_type": "markdown",
   "metadata": {},
   "source": [
    "#### '*' in Function Signature\n",
    "\n",
    "Asterisk (*): The asterisk in a function signature has multiple uses depending on its placement:\n",
    "\n",
    "a. Variadic Positional Parameters: When the asterisk is placed before a parameter name, it allows the function to accept a variable number of positional arguments. These arguments are gathered into a tuple within the function.\n",
    "\n",
    "Example:\n",
    "\n",
    "```\n",
    "def example(*args):\n",
    "    for arg in args:\n",
    "        print(arg)\n",
    "```\n",
    "\n",
    "In the above example, args is a tuple that contains all the positional arguments passed to the function.\n",
    "\n",
    "b. Variadic Keyword Parameters: When the asterisk is placed before a parameter name in the function signature, it allows the function to accept a variable number of keyword arguments. These arguments are gathered into a dictionary within the function.\n",
    "\n",
    "Example:\n",
    "\n",
    "```\n",
    "def example(**kwargs):\n",
    "    for key, value in kwargs.items():\n",
    "        print(key, value)\n",
    "```\n",
    "\n",
    "In the above example, kwargs is a dictionary that contains all the keyword arguments passed to the function.\n",
    "\n",
    "c. Unpacking Arguments: When the asterisk is used during a function call, it can be used to unpack a list, tuple, or dictionary into individual arguments to be passed to a function.\n",
    "\n",
    "Example:\n",
    "\n",
    "```\n",
    "def example(a, b, c):\n",
    "    print(a, b, c)\n",
    "\n",
    "args = [1, 2, 3]\n",
    "example(*args)\n",
    "```\n",
    "\n",
    "In the above example, the elements of args are unpacked and passed as individual positional arguments to the example function.\n",
    "\n",
    "Example:\n",
    "\n",
    "```\n",
    "def example(a, b, c):\n",
    "    print(a, b, c)\n",
    "\n",
    "kwargs = {'a': 1, 'b': 2, 'c': 3}\n",
    "example(**kwargs)\n",
    "```\n",
    "\n",
    "In the above example, the key-value pairs of kwargs are unpacked and passed as individual keyword arguments to the example function.\n",
    "\n",
    "\n",
    "```\n",
    "def f(a, *x, b=11, c=56): # b and c are keyword only\n",
    "    return a,x, b, c\n",
    "\n",
    "print(f(1)) # (1, (), 11, 56)\n",
    "print(f(1,2,3)) # (1, (2, 3), 11, 56)\n",
    "print(f(1,2,3,4,5,6)) # (1, (2, 3, 4, 5, 6), 11, 56)\n",
    "\n",
    "```\n",
    "\n",
    "in the above example if b and c are not assigned a value in the signature, there will be a type error.\n",
    "\n",
    "\n",
    "```\n",
    "def f(a, *, b=11, c=56): # b and c are keyword only\n",
    "    return a, b, c\n",
    "\n",
    "print(f(1)) # (1, 11, 56)\n",
    "print(f(1,b=2,c=3)) # (1, 2, 3)\n",
    "print(f(1,2, b=5,c=6)) # TypeError: f() takes 1 positional argument but 2 positional arguments\n",
    "```\n",
    "\n",
    "In Python, if you use a single asterisk (*) in a function signature followed by a named parameter, then that parameter becomes a “keyword-only” argument. This means that it can only be passed to the function using its name, not as a positional argument.\n",
    "\n",
    "```\n",
    "def g(x, *a, b=23, **k): # b is keyword only\n",
    "    return x, a, b, k\n",
    "g(1, 2, 3, c=99) # Returns (1, (2, 3), 23, {'c': 99})\n",
    "```"
   ]
  },
  {
   "attachments": {},
   "cell_type": "markdown",
   "metadata": {},
   "source": [
    "#### Mutable default parameter values\n",
    "\n",
    "When a named parameter’s default value is a mutable object, and the function body alters the parameter, things get tricky. For example:\n",
    "\n",
    "```\n",
    "def f(x, y=[]):\n",
    "y.append(x)\n",
    "return id(y), y\n",
    "print(f(23)) # prints: (4302354376, [23])\n",
    "print(f(42)) # prints: (4302354376, [23, 42])\n",
    "```\n",
    "\n",
    "The second print prints [23, 42] because the first call to f altered the default value of y, originally an empty list [], by appending 23 to it. The id values (always equal to each other, although otherwise arbitrary) confirm that both calls return the same object. \n",
    "\n",
    "You can use y in above example as a cache for handling expensive calculations and turn it around and between functions. This is called ```memoization```.\n",
    "\n",
    "\n",
    "If you want y to be a new, empty list object, each time you call f with a single argument (a far more frequent need!), use the following idiom instead:\n",
    "\n",
    "```\n",
    "def f(x, y=None):\n",
    "if y is None:\n",
    "y = []\n",
    "y.append(x)\n",
    "return id(y), y\n",
    "print(f(23)) # prints: (4302354376, [23])\n",
    "print(f(42)) # prints: (4302180040, [42])\n",
    "```\n",
    "\n"
   ]
  },
  {
   "attachments": {},
   "cell_type": "markdown",
   "metadata": {},
   "source": [
    "# Documentation"
   ]
  },
  {
   "cell_type": "code",
   "execution_count": 12,
   "metadata": {},
   "outputs": [
    {
     "name": "stdout",
     "output_type": "stream",
     "text": [
      "Help on class MyClass in module __main__:\n",
      "\n",
      "class MyClass(builtins.object)\n",
      " |  Methods defined here:\n",
      " |  \n",
      " |  __init__(self)\n",
      " |      This is a docstring for the constructor.\n",
      " |  \n",
      " |  my_method(self, x: int = 1) -> list\n",
      " |      This is a docstring for my_method.\n",
      " |  \n",
      " |  ----------------------------------------------------------------------\n",
      " |  Data descriptors defined here:\n",
      " |  \n",
      " |  __dict__\n",
      " |      dictionary for instance variables (if defined)\n",
      " |  \n",
      " |  __weakref__\n",
      " |      list of weak references to the object (if defined)\n",
      " |  \n",
      " |  ----------------------------------------------------------------------\n",
      " |  Data and other attributes defined here:\n",
      " |  \n",
      " |  __annotations__ = {'a': <class 'int'>}\n",
      " |  \n",
      " |  a = 1\n",
      "\n",
      "======================================\n",
      "Help on function my_method in module __main__:\n",
      "\n",
      "my_method(self, x: int = 1) -> list\n",
      "    This is a docstring for my_method.\n",
      "\n"
     ]
    }
   ],
   "source": [
    "class MyClass:\n",
    "    a: int = 1\n",
    "    \"\"\"\n",
    "    This is a docstring for MyClass.\n",
    "    \"\"\"\n",
    "\n",
    "    def __init__(self):\n",
    "        \"\"\"\n",
    "        This is a docstring for the constructor.\n",
    "        \"\"\"\n",
    "        pass\n",
    "\n",
    "    def my_method(self, x:int=1) -> list[str]:\n",
    "        \"\"\"\n",
    "        This is a docstring for my_method.\n",
    "        \"\"\"\n",
    "        pass\n",
    "\n",
    "help(MyClass)\n",
    "print(\"======================================\")\n",
    "help(MyClass.my_method)"
   ]
  },
  {
   "attachments": {},
   "cell_type": "markdown",
   "metadata": {},
   "source": [
    "# Lambda Expression\n",
    "\n",
    "If a function body is a single return expression statement, you may choose to replace the function with the special lambda expression form:\n",
    "\n",
    "```\n",
    "lambda parameters: expression\n",
    "```\n",
    "\n",
    "A lambda expression is the anonymous equivalent of a normal function whose body is a single return statement. The lambda syntax does not use the return keyword. You can use a lambda expression wherever you could use a reference to a function. lambda can sometimes be handy when you want to use an extremely simple function as an argument or return value.\n",
    "\n",
    "- sorting\n",
    "- mapping\n",
    "- filtering"
   ]
  },
  {
   "cell_type": "code",
   "execution_count": 58,
   "metadata": {},
   "outputs": [
    {
     "name": "stdout",
     "output_type": "stream",
     "text": [
      "[{'name': 'Bob', 'age': 20}, {'name': 'Alice', 'age': 25}, {'name': 'Charlie', 'age': 30}]\n"
     ]
    }
   ],
   "source": [
    "'''\n",
    "Sorting: Let’s say you have a list of dictionaries that represent people with their names and ages. \n",
    "You can sort this list by age using a lambda function like this:\n",
    "'''\n",
    "\n",
    "people = [\n",
    "    {'name': 'Alice', 'age': 25},\n",
    "    {'name': 'Bob', 'age': 20},\n",
    "    {'name': 'Charlie', 'age': 30}\n",
    "]\n",
    "\n",
    "people.sort(key=lambda dict : dict['age'])\n",
    "\n",
    "print(people)"
   ]
  },
  {
   "cell_type": "code",
   "execution_count": 61,
   "metadata": {},
   "outputs": [
    {
     "name": "stdout",
     "output_type": "stream",
     "text": [
      "[2, 4, 6]\n"
     ]
    }
   ],
   "source": [
    "'''\n",
    "Filtering: Let’s say you have a list of numbers and you want to filter out all the odd numbers. You can use a lambda function like this:\n",
    "'''\n",
    "\n",
    "numbers = [1, 2, 3, 4, 5, 6]\n",
    "\n",
    "even_numbers = list(filter(lambda x : x % 2 == 0, numbers))\n",
    "\n",
    "print(even_numbers)"
   ]
  },
  {
   "cell_type": "code",
   "execution_count": 62,
   "metadata": {},
   "outputs": [
    {
     "name": "stdout",
     "output_type": "stream",
     "text": [
      "[1, 4, 9, 16, 25]\n"
     ]
    }
   ],
   "source": [
    "'''\n",
    "Mapping: Let’s say you have a list of numbers and you want to square each number. You can use a lambda function like this:\n",
    "'''\n",
    "\n",
    "numbers = [1, 2, 3, 4, 5]\n",
    "\n",
    "squared_numbers = list(map(lambda x: x ** 2, numbers))\n",
    "\n",
    "print(squared_numbers)"
   ]
  },
  {
   "attachments": {},
   "cell_type": "markdown",
   "metadata": {},
   "source": [
    "#### Yield and Generator\n",
    "\n",
    "vThe yield keyword in Python is used in generator functions to produce a series of values that can be iterated over. When a generator function is called, it returns a generator object that can be used to iterate over the values produced by the generator function."
   ]
  },
  {
   "cell_type": "code",
   "execution_count": 65,
   "metadata": {},
   "outputs": [
    {
     "name": "stdout",
     "output_type": "stream",
     "text": [
      "0\n",
      "2\n",
      "4\n",
      "6\n"
     ]
    }
   ],
   "source": [
    "# generate infinite sequence\n",
    "\n",
    "def even_numbers():\n",
    "    n = 0\n",
    "    while True:\n",
    "        yield n\n",
    "        n += 2\n",
    "\n",
    "evenNum = even_numbers()\n",
    "print(next(evenNum))        \n",
    "print(next(evenNum))\n",
    "print(next(evenNum))\n",
    "print(next(evenNum))"
   ]
  },
  {
   "cell_type": "code",
   "execution_count": 70,
   "metadata": {},
   "outputs": [
    {
     "name": "stdout",
     "output_type": "stream",
     "text": [
      "0\n",
      "1\n",
      "1\n",
      "2\n",
      "3\n",
      "5\n",
      "-------\n",
      "8\n",
      "13\n",
      "21\n",
      "34\n"
     ]
    }
   ],
   "source": [
    "# generate finite seq\n",
    "\n",
    "def fibonacci(n):\n",
    "    a, b = 0, 1\n",
    "    for _ in range(n):\n",
    "        yield a\n",
    "        a, b = b, a + b\n",
    "\n",
    "fibo = fibonacci(10)\n",
    "print(next(fibo))\n",
    "print(next(fibo))\n",
    "print(next(fibo))\n",
    "print(next(fibo))\n",
    "print(next(fibo))\n",
    "print(next(fibo))\n",
    "print('-------')\n",
    "for num in fibo:\n",
    "    print(num)"
   ]
  },
  {
   "cell_type": "code",
   "execution_count": 74,
   "metadata": {},
   "outputs": [],
   "source": [
    "# Building data pipelines: You can use generators with yield to build data pipelines that process large amounts of data efficiently. \n",
    "def process_file(filename):\n",
    "    with open(filename) as f:\n",
    "        for line in f:\n",
    "            # yield process_line(line)\n",
    "            yield line\n",
    "\n",
    "# data = process_file('Brief.py')\n",
    "\n",
    "# for item in data:\n",
    "#     print(item)\n"
   ]
  },
  {
   "cell_type": "code",
   "execution_count": 76,
   "metadata": {},
   "outputs": [
    {
     "name": "stdout",
     "output_type": "stream",
     "text": [
      "1\n",
      "2\n",
      "3\n",
      "4\n",
      "5\n",
      "6\n"
     ]
    }
   ],
   "source": [
    "'''\n",
    "The yield from statement in Python is used to delegate part of the responsibility for generating a \n",
    "sequence of values to another generator function. It allows you to write more concise and readable \n",
    "code by reducing the amount of boilerplate code needed to create a generator.\n",
    "'''\n",
    "def flatten(nested):\n",
    "    for sublist in nested:\n",
    "        yield from sublist\n",
    "\n",
    "nested = [[1, 2], [3, 4], [5, 6]]\n",
    "\n",
    "for num in flatten(nested):\n",
    "    print(num)\n"
   ]
  },
  {
   "attachments": {},
   "cell_type": "markdown",
   "metadata": {},
   "source": [
    "# Classes\n",
    "\n",
    "```\n",
    "class Classname(base-classes, *, **kw):\n",
    "    statement(s)\n",
    "```\n",
    "\n",
    "This class is a direct subclass or descendant of its base classes. \n",
    "\n",
    "The built-in function ```issubclass(C1, C2)``` accepts two class objects: it returns True when C1 extends C2, and otherwise it returns False.\n",
    "\n",
    "```\n",
    "class C4:\n",
    "    x = 23\n",
    "    def amethod(self):\n",
    "        print(C4.x) # must use C4.x or self.x, not just x!\n",
    "```        "
   ]
  },
  {
   "attachments": {},
   "cell_type": "markdown",
   "metadata": {},
   "source": [
    "##### Descriptors\n",
    "\n",
    "In Python, descriptors are a way to define how attributes of a class should be accessed. They are implemented using the descriptor protocol, which consists of the ```__get__()```, ```__set__()```, and ```__delete__()``` methods.\n",
    "\n",
    "The ```__get__()``` method is called when an attribute is accessed. It takes three arguments: self, the instance of the class that the attribute belongs to; obj, the instance of the class that is accessing the attribute; and type, the type of the class that is accessing the attribute. The ```__get__()``` method should return the value of the attribute.\n",
    "\n",
    "The ```__set__()``` method is called when an attribute is set. It takes three arguments: self, the instance of the class that the attribute belongs to; obj, the instance of the class that is setting the attribute; and value, the value that the attribute is being set to. The ```__set__()``` method should set the value of the attribute."
   ]
  },
  {
   "cell_type": "code",
   "execution_count": 77,
   "metadata": {},
   "outputs": [
    {
     "name": "stdout",
     "output_type": "stream",
     "text": [
      "Setting value\n",
      "Getting value\n",
      "42\n"
     ]
    }
   ],
   "source": [
    "class Descriptor:\n",
    "    def __get__(self, obj, type=None):\n",
    "        print('Getting value')\n",
    "        return obj._value\n",
    "\n",
    "    def __set__(self, obj, value):\n",
    "        print('Setting value')\n",
    "        obj._value = value\n",
    "\n",
    "class MyClass:\n",
    "    def __init__(self):\n",
    "        self._value = None\n",
    "\n",
    "    x = Descriptor()\n",
    "\n",
    "my_object = MyClass()\n",
    "my_object.x = 42\n",
    "print(my_object.x)\n"
   ]
  },
  {
   "attachments": {},
   "cell_type": "markdown",
   "metadata": {},
   "source": [
    "You can use descriptors to enforce restrictions on attribute values by defining a validator descriptor. A validator descriptor is a descriptor that verifies that the new value meets various type and range restrictions before storing any data. If those restrictions aren’t met, it raises an exception to prevent data corruption at its source.\n",
    "\n",
    "Here’s an example:"
   ]
  },
  {
   "cell_type": "code",
   "execution_count": 78,
   "metadata": {},
   "outputs": [
    {
     "name": "stdout",
     "output_type": "stream",
     "text": [
      "50\n",
      "x must be >= 0\n",
      "x must be <= 100\n"
     ]
    }
   ],
   "source": [
    "class Validator:\n",
    "    def __init__(self, name, type_, min_=None, max_=None):\n",
    "        self.name = name\n",
    "        self.type_ = type_\n",
    "        self.min_ = min_\n",
    "        self.max_ = max_\n",
    "\n",
    "    def __get__(self, obj, objtype):\n",
    "        return obj.__dict__[self.name]\n",
    "\n",
    "    def __set__(self, obj, value):\n",
    "        if not isinstance(value, self.type_):\n",
    "            raise TypeError(f'{self.name} must be of type {self.type_.__name__}')\n",
    "        if self.min_ is not None and value < self.min_:\n",
    "            raise ValueError(f'{self.name} must be >= {self.min_}')\n",
    "        if self.max_ is not None and value > self.max_:\n",
    "            raise ValueError(f'{self.name} must be <= {self.max_}')\n",
    "        obj.__dict__[self.name] = value\n",
    "\n",
    "class MyClass:\n",
    "    x = Validator('x', int, 0, 100)\n",
    "\n",
    "my_object = MyClass()\n",
    "my_object.x = 50\n",
    "print(my_object.x)\n",
    "\n",
    "try:\n",
    "    my_object.x = -1\n",
    "except Exception as e:\n",
    "    print(e)\n",
    "\n",
    "try:\n",
    "    my_object.x = 101\n",
    "except Exception as e:\n",
    "    print(e)\n"
   ]
  },
  {
   "attachments": {},
   "cell_type": "markdown",
   "metadata": {},
   "source": [
    "When a descriptor’s class supplies a special method named ```__set__```, the descriptor is known as an ```overriding``` descriptor. when the descriptor’s class supplies ```__get__``` and not ```__set__```, the descriptor is known as a ```nonoverriding``` descriptor.\n",
    "\n",
    "The third dunder method of the descriptor protocol is ```__delete__```, called when the del statement is used on the descriptor instance. If ```del``` is not supported, it is still a good idea to implement ```__delete__```, raising a proper ```AttributeError exception```; otherwise, the caller will get a mysterious AttributeError: ```__delete__``` exception."
   ]
  },
  {
   "attachments": {},
   "cell_type": "markdown",
   "metadata": {},
   "source": [
    "#### Factory Function\n",
    "\n",
    "In Python, a factory function is a function that returns another function or object. The returned function or object is usually created dynamically based on the arguments passed to the factory function.\n",
    "\n",
    "A common use case for factory functions is to create objects with different configurations. For example, you might have a class that represents a database connection, and you want to create instances of that class with different connection parameters (such as the database name, username, and password). Instead of creating separate classes for each configuration, you can use a factory function to create instances of the class with the desired configuration.\n",
    "\n",
    "Here’s an example:"
   ]
  },
  {
   "cell_type": "code",
   "execution_count": 79,
   "metadata": {},
   "outputs": [],
   "source": [
    "class DatabaseConnection:\n",
    "    def __init__(self, dbname, username, password):\n",
    "        self.dbname = dbname\n",
    "        self.username = username\n",
    "        self.password = password\n",
    "\n",
    "def create_database_connection(dbname, username, password):\n",
    "    return DatabaseConnection(dbname=dbname, username=username, password=password)\n",
    "\n",
    "db1 = create_database_connection('mydb', 'myuser', 'mypassword')\n",
    "db2 = create_database_connection('otherdb', 'otheruser', 'otherpassword')\n"
   ]
  },
  {
   "attachments": {},
   "cell_type": "markdown",
   "metadata": {},
   "source": [
    "Another use case for factory functions is to create functions with different behavior. For example, you might have a function that performs some computation on data, and you want to create variations of that function with different algorithms or parameters. Instead of creating separate functions for each variation, you can use a factory function to create functions with the desired behavior.\n",
    "\n",
    "Here’s an example:"
   ]
  },
  {
   "cell_type": "code",
   "execution_count": 80,
   "metadata": {},
   "outputs": [
    {
     "name": "stdout",
     "output_type": "stream",
     "text": [
      "5\n",
      "6\n"
     ]
    }
   ],
   "source": [
    "def create_computation_function(algorithm):\n",
    "    if algorithm == 'add':\n",
    "        def add(x, y):\n",
    "            return x + y\n",
    "        return add\n",
    "    elif algorithm == 'multiply':\n",
    "        def multiply(x, y):\n",
    "            return x * y\n",
    "        return multiply\n",
    "\n",
    "add_function = create_computation_function('add')\n",
    "multiply_function = create_computation_function('multiply')\n",
    "\n",
    "print(add_function(2, 3))\n",
    "print(multiply_function(2, 3))\n"
   ]
  },
  {
   "attachments": {},
   "cell_type": "markdown",
   "metadata": {},
   "source": [
    "#### Inheritance and Subclasses"
   ]
  },
  {
   "cell_type": "code",
   "execution_count": 82,
   "metadata": {},
   "outputs": [
    {
     "name": "stdout",
     "output_type": "stream",
     "text": [
      "D.met\n",
      "B.met\n",
      "C.met\n",
      "A.met\n"
     ]
    }
   ],
   "source": [
    "class A:\n",
    "    def met(self):\n",
    "        print('A.met')\n",
    "class B(A):\n",
    "    def met(self):\n",
    "        print('B.met')\n",
    "        super().met()\n",
    "class C(A):\n",
    "    def met(self):\n",
    "        print('C.met')\n",
    "        super().met()\n",
    "class D(B,C):\n",
    "    def met(self):\n",
    "        print('D.met')\n",
    "        super().met()\n",
    "\n",
    "d = D()\n",
    "d.met()        "
   ]
  },
  {
   "attachments": {},
   "cell_type": "markdown",
   "metadata": {},
   "source": [
    "#### Static vs Class Methods"
   ]
  },
  {
   "cell_type": "code",
   "execution_count": 86,
   "metadata": {},
   "outputs": [
    {
     "name": "stdout",
     "output_type": "stream",
     "text": [
      "a static method\n",
      "None\n",
      "a static method\n",
      "None\n"
     ]
    }
   ],
   "source": [
    "class AClass:\n",
    "    def astatic():\n",
    "        print('a static method')\n",
    "    astatic = staticmethod(astatic)\n",
    "\n",
    "an_instance = AClass()\n",
    "print(AClass.astatic()) # prints: a static method\n",
    "print(an_instance.astatic()) # prints: a static method"
   ]
  },
  {
   "cell_type": "code",
   "execution_count": 87,
   "metadata": {},
   "outputs": [
    {
     "name": "stdout",
     "output_type": "stream",
     "text": [
      "a class method for ABase\n",
      "None\n",
      "a class method for ABase\n",
      "None\n",
      "a class method for ADeriv\n",
      "None\n"
     ]
    }
   ],
   "source": [
    "class ABase:\n",
    "    def aclassmet(cls):\n",
    "        print('a class method for', cls.__name__)\n",
    "    aclassmet = classmethod(aclassmet)\n",
    "class ADeriv(ABase):\n",
    "    pass\n",
    "\n",
    "b_instance = ABase()\n",
    "d_instance = ADeriv()\n",
    "print(ABase.aclassmet()) # prints: a class method for ABase\n",
    "print(b_instance.aclassmet()) # prints: a class method for ABase\n",
    "print(ADeriv.aclassmet()) # prints: a class method for ADeriv"
   ]
  },
  {
   "attachments": {},
   "cell_type": "markdown",
   "metadata": {},
   "source": [
    "#### Abstract Class\n",
    "\n",
    "One recommended approach to OO design (attributed to Arthur J. Riel) is to never extend a concrete class. If two concrete classes have enough in common to tempt you to have one of them inherit from the other, proceed instead by making an abstract base class that subsumes all they have in common, and have each concrete class extend that ABC. This approach avoids many of the subtle traps and pitfalls of inheritance."
   ]
  },
  {
   "attachments": {},
   "cell_type": "markdown",
   "metadata": {},
   "source": [
    "# Decorations\n",
    "\n",
    "In Python, you often use higher-order functions: callables that accept a function as an argument and return a function as their result. For example, descriptor types such as staticmethod and classmethod, covered earlier, can be used, within class bodies, as follows:\n",
    "\n",
    "```\n",
    "def f(cls, ...):\n",
    "    # ...definition of f snipped...\n",
    "f = classmethod(f)\n",
    "```\n",
    "\n",
    "However, having the call to classmethod textually after the def statement hurts code readability: while reading f’s definition, the reader of the code is not yet aware that f is going to become a class method rather than an instance method. The code is more readable if the mention of classmethod comes before the def. For this purpose, use the syntax form known as decoration:\n",
    "\n",
    "```\n",
    "@classmethod\n",
    "    def f(cls, ...):\n",
    "        # ...definition of f snipped...\n",
    "```"
   ]
  },
  {
   "attachments": {},
   "cell_type": "markdown",
   "metadata": {},
   "source": [
    "#### @property decoration"
   ]
  },
  {
   "cell_type": "code",
   "execution_count": 89,
   "metadata": {},
   "outputs": [
    {
     "name": "stdout",
     "output_type": "stream",
     "text": [
      "5\n",
      "10\n",
      "error\n"
     ]
    }
   ],
   "source": [
    "class MyClass:\n",
    "    def __init__(self, value):\n",
    "        self._value = value\n",
    "\n",
    "    @property\n",
    "    def value(self):\n",
    "        return self._value\n",
    "\n",
    "    @value.setter\n",
    "    def value(self, new_value):\n",
    "        if new_value < 0:\n",
    "            raise ValueError(\"Value cannot be negative\")\n",
    "        self._value = new_value\n",
    "\n",
    "x = MyClass(5)\n",
    "print(x.value)  # Output: 5\n",
    "\n",
    "x.value = 10\n",
    "print(x.value)  # Output: 10\n",
    "\n",
    "try:\n",
    "    x.value = -5  # Raises ValueError\n",
    "except:\n",
    "    print(\"error\")\n"
   ]
  },
  {
   "attachments": {},
   "cell_type": "markdown",
   "metadata": {},
   "source": [
    "#### @dataclasses\n",
    "\n",
    "The main feature of the ```dataclasses``` module you’ll be using is the dataclass function: a decorator you apply to any class whose instances you want to be just such a bunch of named data items. As a typical example, consider the following code:The main feature of the dataclasses module you’ll be using is the dataclass function: a decorator you apply to any class whose instances you want to be just such a bunch of named data items. As a typical example, consider the following code:"
   ]
  },
  {
   "cell_type": "code",
   "execution_count": 90,
   "metadata": {},
   "outputs": [
    {
     "name": "stdout",
     "output_type": "stream",
     "text": [
      "0.5 0.5\n"
     ]
    }
   ],
   "source": [
    "import dataclasses\n",
    "@dataclasses.dataclass\n",
    "class Point:\n",
    "    x: float\n",
    "    y: float\n",
    "\n",
    "pt = Point(0.5, 0.5)\n",
    "print(pt.x, pt.y)    "
   ]
  },
  {
   "attachments": {},
   "cell_type": "markdown",
   "metadata": {},
   "source": [
    "#### Type Annotation\n",
    "\n",
    "Annotating your Python code with type information is an optional step which can be very helpful during development and maintenance of a large project or a library.\n",
    "\n",
    "Python is, fundamentally, a ```dynamically typed``` language. This lets you rapidly develop code by naming and using variables without having to declare them.\n",
    "\n",
    "The standalone ```mypy``` utility continues to be a mainstay for static type checking. The most common command for running mypy is simply \n",
    "\n",
    "```mypy my_python_script.py.```\n",
    "\n",
    "\n",
    "```Instagram’s MonkeyType``` uses the sys.setprofile hook to detect types dynamically at runtime; like pytype (see below), it can also generate a .pyi (stub) file instead of, or in addition to, inserting type annotations in the Python code file itself.\n",
    "\n",
    "\n",
    "Type Annotation Syntax:\n",
    "\n",
    "```\n",
    "identifier: type_specification\n"
   ]
  },
  {
   "cell_type": "code",
   "execution_count": 17,
   "metadata": {},
   "outputs": [
    {
     "name": "stdout",
     "output_type": "stream",
     "text": [
      "222\n",
      "4\n"
     ]
    }
   ],
   "source": [
    "import typing\n",
    "# an int\n",
    "count: int\n",
    "# a list of ints, with a default value\n",
    "counts: list[int] = []\n",
    "# a dict with str keys, values are tuples containing 2 ints and a str\n",
    "employee_data: dict[str, tuple[int, int, str]]\n",
    "# a callable taking a single str or bytes argument and returning a bool\n",
    "str_predicate_function: typing.Callable[[str], bool]\n",
    "# a dict with str keys, whose values are functions that take and return an int\n",
    "str_function_map: dict[str, typing.Callable[[int], int]] = {\n",
    "    'square': lambda x: x * x,\n",
    "    'cube': lambda x: x * x * x,\n",
    "}\n",
    "\n",
    "# Note that lambdas do not accept type annotations.\n",
    "str_function_map['abc'] = 222\n",
    "print(str_function_map['abc'])\n",
    "print(str_function_map['square'](2))\n"
   ]
  },
  {
   "attachments": {},
   "cell_type": "markdown",
   "metadata": {},
   "source": [
    "To annotate a function with a return type, use the form:\n",
    "\n",
    "```\n",
    "def identifier(argument, ...) -> type_specification :\n",
    "```"
   ]
  },
  {
   "cell_type": "code",
   "execution_count": 4,
   "metadata": {},
   "outputs": [],
   "source": [
    "# Example\n",
    "def pad(a: list[str], min_len: int = 1, padstr: str = ' ') -> list[str]:\n",
    "    '''something'''"
   ]
  },
  {
   "attachments": {},
   "cell_type": "markdown",
   "metadata": {},
   "source": [
    "Use ```overload``` at type-checking time to flag named arguments that must be used in particular combinations."
   ]
  },
  {
   "cell_type": "code",
   "execution_count": 19,
   "metadata": {},
   "outputs": [
    {
     "name": "stdout",
     "output_type": "stream",
     "text": [
      "Wrong positional argument..\n"
     ]
    }
   ],
   "source": [
    "@typing.overload\n",
    "def fn(*, key: str, value: int):\n",
    "    pass\n",
    "@typing.overload\n",
    "def fn(*, strict: bool):\n",
    "    pass\n",
    "def fn(**kwargs):\n",
    "    # implementation goes here, including handling of differing\n",
    "    # named arguments\n",
    "    pass\n",
    "\n",
    "# valid calls\n",
    "fn(key='abc', value=100)\n",
    "fn(strict=True)\n",
    "# invalid calls\n",
    "try:\n",
    "    fn(1)\n",
    "    fn('abc')\n",
    "    fn('abc', 100)\n",
    "except:\n",
    "    print('Wrong positional argument..')"
   ]
  },
  {
   "attachments": {},
   "cell_type": "markdown",
   "metadata": {},
   "source": [
    "Use the ```cast function``` to force a type checker to treat a variable as being of a particular type, within the scope of the cast:"
   ]
  },
  {
   "cell_type": "code",
   "execution_count": 28,
   "metadata": {},
   "outputs": [
    {
     "name": "stdout",
     "output_type": "stream",
     "text": [
      "6\n"
     ]
    }
   ],
   "source": [
    "from typing import Union\n",
    "def func(x: Union[list[int], list[str]]):\n",
    "    try:\n",
    "        return sum(x)\n",
    "    except TypeError:\n",
    "        x = cast(list[str], x)\n",
    "        return ','.join(x)\n",
    "    \n",
    "print(func([1,2,3]))"
   ]
  },
  {
   "attachments": {},
   "cell_type": "markdown",
   "metadata": {},
   "source": [
    "#### Generic Type"
   ]
  },
  {
   "cell_type": "code",
   "execution_count": 31,
   "metadata": {},
   "outputs": [
    {
     "name": "stdout",
     "output_type": "stream",
     "text": [
      "[(1, 'one'), (2, 'two'), (3, 'three')]\n",
      "[('1', 'one'), ('2', 'two'), ('3', 'three')]\n"
     ]
    }
   ],
   "source": [
    "from typing import List, Tuple, Generic, TypeVar\n",
    "\n",
    "T = TypeVar('T')\n",
    "\n",
    "class MyGenericClass(Generic[T]):\n",
    "    def __init__(self, x: List[Tuple[T, str]]) -> None:\n",
    "        \"\"\"\n",
    "        This is a docstring for MyGenericClass.\n",
    "\n",
    "        Args:\n",
    "            x (List[Tuple[T, str]]): Description of x\n",
    "        \"\"\"\n",
    "        self.x = x\n",
    "\n",
    "    def my_function(self) -> None:\n",
    "        \"\"\"\n",
    "        This is a docstring for my_function.\n",
    "        \"\"\"\n",
    "        # Do something with self.x\n",
    "        ...\n",
    "        print(self.x)\n",
    "\n",
    "my_instance = MyGenericClass([(1, 'one'), (2, 'two'), (3, 'three')])\n",
    "my_instance2 = MyGenericClass([('1', 'one'), ('2', 'two'), ('3', 'three')])\n",
    "\n",
    "my_instance.my_function()\n",
    "my_instance2.my_function()\n"
   ]
  },
  {
   "attachments": {},
   "cell_type": "markdown",
   "metadata": {},
   "source": [
    "# Exception\n",
    "\n",
    "Here’s the syntax for the try/except form of the try statement:\n",
    "\n",
    "```\n",
    "try:\n",
    "    statement(s)\n",
    "except [expression [as target]]:\n",
    "    statement(s)\n",
    "[else:\n",
    "    statement(s)]\n",
    "[finally:\n",
    "    statement(s)]\n",
    "```    "
   ]
  },
  {
   "cell_type": "code",
   "execution_count": 32,
   "metadata": {},
   "outputs": [
    {
     "data": {
      "text/plain": [
       "[(1, 3), (1, 4), (2, 3), (2, 4)]"
      ]
     },
     "execution_count": 32,
     "metadata": {},
     "output_type": "execute_result"
    }
   ],
   "source": [
    "def cross_product(seq1, seq2):\n",
    "    if not seq1 or not seq2:\n",
    "        raise ValueError('Sequence arguments must be non-empty')\n",
    "    return [(x1, x2) for x1 in seq1 for x2 in seq2]\n",
    "\n",
    "cross_product([1,2], [3,4])"
   ]
  },
  {
   "attachments": {},
   "cell_type": "markdown",
   "metadata": {},
   "source": [
    "The with statement is a compound statement with the following syntax:\n",
    "\n",
    "```\n",
    "with expression [as varname] [, ...]:\n",
    "    statement(s)\n",
    "```\n",
    "\n",
    "\n",
    "```\n",
    "class enclosing_tag:\n",
    "    def __init__(self, tagname):\n",
    "        self.tagname = tagname\n",
    "    def __enter__(self):\n",
    "        print(f'<{self.tagname}>', end='')\n",
    "    def __exit__(self, etyp, einst, etb):\n",
    "        print(f'</{self.tagname}>')\n",
    "        # to be used as:\n",
    "        with enclosing_tag('sometag'):\n",
    "            # ...statements printing output to be enclosed\n",
    "```"
   ]
  },
  {
   "cell_type": "code",
   "execution_count": 33,
   "metadata": {},
   "outputs": [
    {
     "name": "stdout",
     "output_type": "stream",
     "text": [
      "in h, before g()\n",
      "in g, before f()\n",
      "in f, before 1/0\n",
      "ZD exception caught\n",
      "function h ends\n"
     ]
    }
   ],
   "source": [
    "def f():\n",
    "    print('in f, before 1/0')\n",
    "    1/0 # raises a ZeroDivisionError exception\n",
    "    print('in f, after 1/0')\n",
    "def g():\n",
    "    print('in g, before f()')\n",
    "    f()\n",
    "    print('in g, after f()')\n",
    "def h():\n",
    "    print('in h, before g()')\n",
    "    try:\n",
    "        g()\n",
    "        print('in h, after g()')\n",
    "    except ZeroDivisionError:\n",
    "        print('ZD exception caught')\n",
    "    print('function h ends')\n",
    "\n",
    "h()    "
   ]
  },
  {
   "attachments": {},
   "cell_type": "markdown",
   "metadata": {},
   "source": [
    "#### Custom Exception Classes\n",
    "\n",
    "```\n",
    "class InvalidAttributeError(AttributeError):\n",
    "    \"\"\"Used to indicate attributes that could never be valid.\"\"\"\n",
    "```"
   ]
  },
  {
   "cell_type": "code",
   "execution_count": 39,
   "metadata": {},
   "outputs": [],
   "source": [
    "class InvalidAttributeError(AttributeError):\n",
    "    \"\"\"Used to indicate attributes that could never be valid.\"\"\"\n",
    "\n",
    "class SomeFunkyClass:\n",
    "    \"\"\"much hypothetical functionality snipped\"\"\"\n",
    "    def __getattr__(self, name):\n",
    "        \"\"\"only clarifies the kind of attribute error\"\"\"\n",
    "        if name.startswith('_'):\n",
    "            raise InvalidAttributeError(\n",
    "                f'Unknown private attribute {name!r}'\n",
    "                )\n",
    "        else:\n",
    "            raise AttributeError(f'Unknown attribute {name!r}')"
   ]
  },
  {
   "cell_type": "code",
   "execution_count": 46,
   "metadata": {},
   "outputs": [
    {
     "name": "stdout",
     "output_type": "stream",
     "text": [
      "error\n"
     ]
    }
   ],
   "source": [
    "s = SomeFunkyClass()\n",
    "thename = \"abc\"\n",
    "\n",
    "try:\n",
    "    value = s.__getattr__(thename)\n",
    "except:\n",
    "    print(\"error\") # try getting the actual error"
   ]
  },
  {
   "attachments": {},
   "cell_type": "markdown",
   "metadata": {},
   "source": [
    "#### Logging\n",
    "\n",
    "```\n",
    "if logging.getLogger().isEnabledFor(logging.DEBUG):\n",
    "    foo = cpu_intensive_function()\n",
    "    logging.debug('foo is %r', foo)\n",
    "```"
   ]
  },
  {
   "cell_type": "code",
   "execution_count": 50,
   "metadata": {},
   "outputs": [],
   "source": [
    "import logging\n",
    "\n",
    "logging.getLogger().setLevel(logging.DEBUG)\n",
    "logging.getLogger().setLevel(logging.ERROR)"
   ]
  },
  {
   "cell_type": "code",
   "execution_count": 51,
   "metadata": {},
   "outputs": [],
   "source": [
    "import logging\n",
    "logging.basicConfig(\n",
    "    format='%(asctime)s %(levelname)8s %(message)s',\n",
    "    filename='/tmp/logfile.txt', filemode='w')"
   ]
  },
  {
   "attachments": {},
   "cell_type": "markdown",
   "metadata": {},
   "source": [
    "#### The assert Statement\n",
    "\n",
    "In Python, the assert statement is used to check whether a condition is true or not. If the condition is false, the program will raise an AssertionError exception\n",
    "\n",
    "```\n",
    "assert condition[, expression]\n",
    "```"
   ]
  },
  {
   "cell_type": "code",
   "execution_count": 54,
   "metadata": {},
   "outputs": [],
   "source": [
    "x = 5\n",
    "assert x == 5"
   ]
  },
  {
   "cell_type": "code",
   "execution_count": 56,
   "metadata": {},
   "outputs": [
    {
     "name": "stdout",
     "output_type": "stream",
     "text": [
      "Average of mark1: 2.0\n"
     ]
    }
   ],
   "source": [
    "def avg(marks):\n",
    "    assert len(marks) != 0, \"List is empty.\"\n",
    "    return sum(marks) / len(marks)\n",
    "\n",
    "mark1 = [1, 2, 3]\n",
    "mark2 = []\n",
    "\n",
    "print(\"Average of mark1:\", avg(mark1))\n",
    "# print(\"Average of mark2:\", avg(mark2)) # throws an error due to assert check"
   ]
  },
  {
   "attachments": {},
   "cell_type": "markdown",
   "metadata": {},
   "source": [
    "# Private vs Public\n",
    "\n",
    "To make a class variable private in Python, you can use double underscore (__) before the variable name. This will make the variable private and give a strong suggestion not to touch it from outside the class.\n",
    "\n",
    "```\n",
    "class C:\n",
    "    y:int = 1\n",
    "    __x:int = 1\n",
    "\n",
    "print(C.y) # output: 1 \n",
    "print(C.__x) # throws error   \n",
    "```\n",
    "\n",
    "```\n",
    "\n",
    "\n",
    "class MyClass:\n",
    "    def __init__(self):\n",
    "        self.__private_variable = 0\n",
    "\n",
    "    def __private_method(self):\n",
    "        print(\"I'm inside class MyClass that is this is private method\")\n",
    "\n",
    "    def public_method(self):\n",
    "        print(\"Public method\")\n",
    "        self.__private_method()\n",
    "\n",
    "my_object = MyClass()\n",
    "my_object.public_method()\n",
    "```\n"
   ]
  },
  {
   "attachments": {},
   "cell_type": "markdown",
   "metadata": {},
   "source": [
    " #### Packages \n",
    "\n",
    "As mentioned previously, an import statement normally expects to find its target somewhere on ```sys.path—a``` behavior known as an ```absolute import```. Alternatively, you can explicitly use a ```relative import```, meaning an import of an object from within the current package. Using relative imports can make it easier for you to refactor or restructure the subpackages within your package. Relative imports use module or package names beginning with one or more dots, and are only available within the from statement. from . import X looks for the module or object named X in the current package; from .X import y looks in module or subpackage X within the current package for the module or object named y. If your package has subpackages, their code can access higher-up objects in the package by using multiple dots at the start of the module or subpackage name you place between from and import. Each additional dot ascends the directory hierarchy one level."
   ]
  },
  {
   "attachments": {},
   "cell_type": "markdown",
   "metadata": {},
   "source": [
    "#### Python Environments\n",
    "\n",
    "A typical Python programmer works on several projects concurrently, each with its own list of dependencies (typically, third-party libraries and data files). When the dependencies for all projects are installed into the same Python interpreter, it is very difficult to determine which projects use which dependencies, and impossible to handle projects with conflicting versions of certain dependencies.\n",
    "\n",
    "That functionality is just what virtual environments (virtualenvs) give you. Creating a virtualenv based on a specific Python interpreter copies or links to components from that interpreter’s installation. Critically, though, each one has its own site-packages directory, into which you can install the Python resources of your choice.\n",
    "\n",
    "This means that pip can install dependencies in isolation from other environments, in the virtualenv’s site-packages directory.\n",
    "\n",
    "With separate virtualenvs you can, for example, test two different versions of the same library with a project, or test your project with multiple versions of Python.\n",
    "\n",
    "```python -m venv envpath```\n",
    "\n"
   ]
  }
 ],
 "metadata": {
  "kernelspec": {
   "display_name": "Python 3",
   "language": "python",
   "name": "python3"
  },
  "language_info": {
   "codemirror_mode": {
    "name": "ipython",
    "version": 3
   },
   "file_extension": ".py",
   "mimetype": "text/x-python",
   "name": "python",
   "nbconvert_exporter": "python",
   "pygments_lexer": "ipython3",
   "version": "3.9.6"
  },
  "orig_nbformat": 4
 },
 "nbformat": 4,
 "nbformat_minor": 2
}
